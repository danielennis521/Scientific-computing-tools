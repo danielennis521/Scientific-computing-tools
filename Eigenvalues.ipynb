{
 "cells": [
  {
   "attachments": {},
   "cell_type": "markdown",
   "metadata": {},
   "source": [
    "The goal of this notebook is to investigate the properties of numerial methods for computing the eigenvalues and eigenvectors of a matrix. Eventually this will be used to build code that finds eigenvectors and values in both Python and c++"
   ]
  },
  {
   "cell_type": "code",
   "execution_count": 2,
   "metadata": {},
   "outputs": [
    {
     "name": "stdout",
     "output_type": "stream",
     "text": [
      "(3.9991065311976897, array([[1.        ],\n",
      "       [0.99955317]]))\n"
     ]
    }
   ],
   "source": [
    "import numpy as np\n",
    "\n",
    "def max_eigenstuff(A):\n",
    "    v = np.random.rand(A.shape[1], 1)\n",
    "    lmbda_prev = -1.0\n",
    "    lmbda_cur = 0.0\n",
    "\n",
    "    while(np.abs(lmbda_cur - lmbda_prev) > 0.001):\n",
    "        lmbda_prev = lmbda_cur\n",
    "        v = A.dot(v)\n",
    "        lmbda_cur = np.absolute(v).max()\n",
    "        v = v/lmbda_cur\n",
    "\n",
    "    return lmbda_cur, v\n",
    "\n",
    "\n",
    "print(max_eigenstuff(np.array([[3.0, 1.0], [1.0, 3.0]])))"
   ]
  },
  {
   "attachments": {},
   "cell_type": "markdown",
   "metadata": {},
   "source": [
    "The exact eigenvectors are [1, 1] and [-1, 1]. This method assumes that the vector we randomly choose to start the iteration process has some component in the direction of the eigenvector corresponding to the largest eigenvalue. So if we choose the start to be the other eigenvector then this shouldnt work"
   ]
  },
  {
   "cell_type": "code",
   "execution_count": 4,
   "metadata": {},
   "outputs": [
    {
     "name": "stdout",
     "output_type": "stream",
     "text": [
      "2.0\n",
      "[[-1.]\n",
      " [ 1.]]\n"
     ]
    }
   ],
   "source": [
    "A = np.array([[3.0, 1.0], [1.0, 3.0]])\n",
    "v = np.array([[-1.0],[1.0]])\n",
    "lmbda_prev = -1.0\n",
    "lmbda_cur = 0.0\n",
    "\n",
    "while(np.abs(lmbda_cur - lmbda_prev) > 0.001):\n",
    "    lmbda_prev = lmbda_cur\n",
    "    v = A.dot(v)\n",
    "    lmbda_cur = np.absolute(v).max()\n",
    "    v = v/lmbda_cur\n",
    "\n",
    "print(lmbda_cur)\n",
    "print(v)"
   ]
  },
  {
   "attachments": {},
   "cell_type": "markdown",
   "metadata": {},
   "source": [
    "And this problem should persist for any scalar multiple of one of the other eigenvectors. In practice this issue has a tendency to fix itself though because floating point error with eventually give something that isnt independent of the largest eigenvector"
   ]
  },
  {
   "cell_type": "code",
   "execution_count": 9,
   "metadata": {},
   "outputs": [
    {
     "name": "stdout",
     "output_type": "stream",
     "text": [
      "3.999999999999858\n",
      "[[1.]\n",
      " [1.]]\n"
     ]
    }
   ],
   "source": [
    "A = np.array([[3.0, 1.0], [1.0, 3.0]])\n",
    "v = np.array([[-0.05],[0.05]])\n",
    "lmbda_prev = -1.0\n",
    "lmbda_cur = 0.0\n",
    "\n",
    "for i in range(100):\n",
    "    lmbda_prev = lmbda_cur\n",
    "    v = A.dot(v)\n",
    "    lmbda_cur = np.absolute(v).max()\n",
    "    v = v/lmbda_cur\n",
    "\n",
    "print(lmbda_cur)\n",
    "print(v)"
   ]
  }
 ],
 "metadata": {
  "kernelspec": {
   "display_name": "Python 3",
   "language": "python",
   "name": "python3"
  },
  "language_info": {
   "codemirror_mode": {
    "name": "ipython",
    "version": 3
   },
   "file_extension": ".py",
   "mimetype": "text/x-python",
   "name": "python",
   "nbconvert_exporter": "python",
   "pygments_lexer": "ipython3",
   "version": "3.10.10"
  },
  "orig_nbformat": 4
 },
 "nbformat": 4,
 "nbformat_minor": 2
}
